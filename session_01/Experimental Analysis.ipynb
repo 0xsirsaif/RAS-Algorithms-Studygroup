{
 "cells": [
  {
   "cell_type": "code",
   "execution_count": 3,
   "id": "d2fafd02",
   "metadata": {},
   "outputs": [
    {
     "data": {
      "image/png": "[encoded data removed]",
      "text/plain": [
       "<Figure size 432x288 with 1 Axes>"
      ]
     },
     "metadata": {
      "needs_background": "light"
     },
     "output_type": "display_data"
    }
   ],
   "source": [
    "from timeit import default_timer as timer\n",
    "from matplotlib import pyplot as plt\n",
    "\n",
    "def basic_algorithm(input_size):\n",
    "    start = timer()\n",
    "    \n",
    "    #######################\n",
    "    arr = [0]*input_size\n",
    "    for i in range(input_size):\n",
    "        arr[i] = input_size\n",
    "    #######################\n",
    "    \n",
    "    end = timer()\n",
    "    return (input_size, end - start)\n",
    "\n",
    "def test_cases(n):\n",
    "    colck_cycles = []\n",
    "    for i in range(n):\n",
    "        colck_cycles.append(basic_algorithm(i))\n",
    "    return colck_cycles\n",
    "\n",
    "\n",
    "data = test_cases(100)\n",
    "\n",
    "plt.xlabel(\"input size (n)\")\n",
    "plt.ylabel(\"running time\")\n",
    "plt.scatter(*zip(*data))\n",
    "plt.show()"
   ]
  },
  {
   "cell_type": "code",
   "execution_count": null,
   "id": "fd2e7af1",
   "metadata": {},
   "outputs": [],
   "source": []
  },
  {
   "cell_type": "code",
   "execution_count": null,
   "id": "fd6becac",
   "metadata": {},
   "outputs": [],
   "source": []
  }
 ],
 "metadata": {
  "kernelspec": {
   "display_name": "Python 3",
   "language": "python",
   "name": "python3"
  },
  "language_info": {
   "codemirror_mode": {
    "name": "ipython",
    "version": 3
   },
   "file_extension": ".py",
   "mimetype": "text/x-python",
   "name": "python",
   "nbconvert_exporter": "python",
   "pygments_lexer": "ipython3",
   "version": "3.6.9"
  }
 },
 "nbformat": 4,
 "nbformat_minor": 5
}
