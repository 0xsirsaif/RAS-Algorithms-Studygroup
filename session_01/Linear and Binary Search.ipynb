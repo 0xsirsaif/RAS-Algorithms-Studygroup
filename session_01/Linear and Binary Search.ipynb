{
 "cells": [
  {
   "cell_type": "code",
   "execution_count": null,
   "id": "44a3780a",
   "metadata": {},
   "outputs": [],
   "source": [
    "# Sequential (Linear) Search\n",
    "\n",
    "def linear_search(arr, target):\n",
    "    for i in range(len(arr)):\n",
    "        if arr[i] == target:\n",
    "            print(\"number of steps : \", i)\n",
    "            return i\n",
    "    return \"Doesn't Exist\"\n",
    "\n",
    "linear_search([1, 3, 5, 7, 11, 13, 17, 19, 23, 29, 31, 37, 41, 43, 47, 53, 59], 37)"
   ]
  },
  {
   "cell_type": "code",
   "execution_count": null,
   "id": "c4c22238",
   "metadata": {},
   "outputs": [],
   "source": [
    "# Binary Search\n",
    "\n",
    "def binary_search(arr, target):\n",
    "    mid = 0\n",
    "    start = 0\n",
    "    end = len(arr)\n",
    "    steps = 0\n",
    "\n",
    "    while (start <= end):\n",
    "        mid = (start + end) // 2\n",
    "        steps += 1\n",
    "            \n",
    "        if target == arr[mid]:\n",
    "            print(\"number of steps : \", steps - 1)\n",
    "            return mid\n",
    "\n",
    "        elif target < arr[mid]:\n",
    "            end = mid - 1\n",
    "        else:\n",
    "            start = mid + 1\n",
    "    return \"Doesn't Exist\"\n",
    "\n",
    "binary_search([1, 3, 5, 7, 11, 13, 17, 19, 23, 29, 31, 37, 41, 43, 47, 53, 59], 37)"
   ]
  },
  {
   "cell_type": "markdown",
   "id": "6f65a8fe",
   "metadata": {},
   "source": [
    "![SegmentLocal](media/binary_linear.gif \"segment\")"
   ]
  },
  {
   "cell_type": "markdown",
   "id": "d7e6bdba",
   "metadata": {},
   "source": []
  }
 ],
 "metadata": {
  "kernelspec": {
   "display_name": "Python 3",
   "language": "python",
   "name": "python3"
  },
  "language_info": {
   "codemirror_mode": {
    "name": "ipython",
    "version": 3
   },
   "file_extension": ".py",
   "mimetype": "text/x-python",
   "name": "python",
   "nbconvert_exporter": "python",
   "pygments_lexer": "ipython3",
   "version": "3.6.9"
  }
 },
 "nbformat": 4,
 "nbformat_minor": 5
}
