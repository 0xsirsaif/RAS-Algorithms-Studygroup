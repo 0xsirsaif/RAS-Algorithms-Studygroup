{
 "cells": [
  {
   "cell_type": "code",
   "execution_count": null,
   "id": "f7b6e450",
   "metadata": {},
   "outputs": [],
   "source": [
    "# O(1)\n",
    "\n",
    "def constant_time(n):\n",
    "    return n"
   ]
  },
  {
   "cell_type": "code",
   "execution_count": null,
   "id": "ac85b372",
   "metadata": {},
   "outputs": [],
   "source": [
    "# O(n)\n",
    "\n",
    "def linear_time(n):\n",
    "    for i in n:\n",
    "        print(i)\n",
    "    "
   ]
  },
  {
   "cell_type": "code",
   "execution_count": null,
   "id": "9d36023c",
   "metadata": {},
   "outputs": [],
   "source": [
    "# O(logn)\n",
    "\n",
    "def logarithmic_time(n):\n",
    "    \"Binary Search\""
   ]
  },
  {
   "cell_type": "code",
   "execution_count": null,
   "id": "0b9cdb06",
   "metadata": {},
   "outputs": [],
   "source": [
    "# O(n^2)\n",
    "\n",
    "def quadratic_time(n):\n",
    "    for i in n:\n",
    "        for k in n:\n",
    "            print(k)"
   ]
  }
 ],
 "metadata": {
  "kernelspec": {
   "display_name": "Python 3",
   "language": "python",
   "name": "python3"
  },
  "language_info": {
   "codemirror_mode": {
    "name": "ipython",
    "version": 3
   },
   "file_extension": ".py",
   "mimetype": "text/x-python",
   "name": "python",
   "nbconvert_exporter": "python",
   "pygments_lexer": "ipython3",
   "version": "3.6.9"
  }
 },
 "nbformat": 4,
 "nbformat_minor": 5
}
