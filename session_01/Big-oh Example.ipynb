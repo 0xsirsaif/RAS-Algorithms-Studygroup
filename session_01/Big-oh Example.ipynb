{
 "cells": [
  {
   "cell_type": "markdown",
   "id": "f87f96c1",
   "metadata": {},
   "source": [
    "### Example 1\n",
    "\n",
    "The function 8n + 5 is O(n) . <br>\n",
    "8n + 5 <= cn <br>\n",
    "c = 9, $n_{0}$=5"
   ]
  },
  {
   "cell_type": "markdown",
   "id": "89c017df",
   "metadata": {},
   "source": [
    "### Example 2\n",
    "The function 5$n^{4}$ + 3$n^{3}$ + 2$n^{2}$ + 4n + 1 is O($n^{4}$) . <br>\n",
    "5$n^{4}$ + 3$n^{3}$ + 2$n^{2}$ + 4n + 1 <= c$n^{4}$ <br>\n",
    "5$n^{4}$ + 3$n^{4}$ + 2$n^{4}$ + 4$n^{4}$ + $n^{4}$ = (5+3+2+1)$n^{4}$\n",
    "11$n^{4}$ >= 5$n^{4}$ + 3$n^{3}$ + 2$n^{2}$ + 4n + 1"
   ]
  },
  {
   "cell_type": "markdown",
   "id": "2878338d",
   "metadata": {},
   "source": [
    "### Example 3\n",
    "The function 20$n^{3}$ + 10n log n + 5 is O($n^{3}$) . <br>\n",
    "20$n^{3}$ + 10n log n + 5 <= c$n^{3}$\n",
    "20$n^{3}$ + 10n log n + 5 <= 35$n^{3}$"
   ]
  },
  {
   "cell_type": "code",
   "execution_count": null,
   "id": "7e1cb359",
   "metadata": {},
   "outputs": [],
   "source": []
  }
 ],
 "metadata": {
  "kernelspec": {
   "display_name": "Python 3",
   "language": "python",
   "name": "python3"
  },
  "language_info": {
   "codemirror_mode": {
    "name": "ipython",
    "version": 3
   },
   "file_extension": ".py",
   "mimetype": "text/x-python",
   "name": "python",
   "nbconvert_exporter": "python",
   "pygments_lexer": "ipython3",
   "version": "3.6.9"
  }
 },
 "nbformat": 4,
 "nbformat_minor": 5
}
